{
 "cells": [
  {
   "cell_type": "code",
   "execution_count": 4,
   "metadata": {},
   "outputs": [
    {
     "name": "stdout",
     "output_type": "stream",
     "text": [
      "   Courses    Fee Duration Discount\n",
      "0    SPARK  22000   30days     1000\n",
      "1  PYSPARK  25000   50days     2300\n",
      "2   HADOOP  24000   40days     2500\n",
      "3   PANDAS  26000   60days     1400\n"
     ]
    }
   ],
   "source": [
    "import pandas as pd\n",
    "import numpy as np\n",
    "technologies= ({\n",
    "    'Courses':[\"SPARK\",\"PYSPARK\",\"HADOOP\",\"PANDAS\"],\n",
    "    'Fee' :['22000','25000','24000','26000'],\n",
    "    'Duration':['30days','50days','40days','60days'],\n",
    "    'Discount':['1000','2300','2500','1400']\n",
    "              })\n",
    "df = pd.DataFrame(technologies)\n",
    "print(df)"
   ]
  },
  {
   "cell_type": "markdown",
   "metadata": {},
   "source": [
    "# convert lowercase column use str.lower()"
   ]
  },
  {
   "cell_type": "code",
   "execution_count": 2,
   "metadata": {},
   "outputs": [
    {
     "name": "stdout",
     "output_type": "stream",
     "text": [
      "   Courses    Fee Duration Discount\n",
      "0    spark  22000   30days     1000\n",
      "1  pyspark  25000   50days     2300\n",
      "2   hadoop  24000   40days     2500\n",
      "3   pandas  26000   60days     1400\n"
     ]
    }
   ],
   "source": [
    "df['Courses'] = df['Courses'].str.lower()\n",
    "print(df)"
   ]
  },
  {
   "cell_type": "markdown",
   "metadata": {},
   "source": [
    "# convert lowercase column use apply()"
   ]
  },
  {
   "cell_type": "code",
   "execution_count": 3,
   "metadata": {},
   "outputs": [
    {
     "name": "stdout",
     "output_type": "stream",
     "text": [
      "   Courses    Fee Duration Discount\n",
      "0    spark  22000   30days     1000\n",
      "1  pyspark  25000   50days     2300\n",
      "2   hadoop  24000   40days     2500\n",
      "3   pandas  26000   60days     1400\n"
     ]
    }
   ],
   "source": [
    "df['Courses'] = df['Courses'].apply(str.lower)\n",
    "print(df)\n"
   ]
  },
  {
   "cell_type": "markdown",
   "metadata": {},
   "source": [
    "# Use apply() & lambda function"
   ]
  },
  {
   "cell_type": "code",
   "execution_count": 4,
   "metadata": {},
   "outputs": [
    {
     "name": "stdout",
     "output_type": "stream",
     "text": [
      "   Courses    Fee Duration Discount\n",
      "0    spark  22000   30days     1000\n",
      "1  pyspark  25000   50days     2300\n",
      "2   hadoop  24000   40days     2500\n",
      "3   pandas  26000   60days     1400\n"
     ]
    }
   ],
   "source": [
    "df['Courses'].apply(lambda x: x.lower())\n",
    "print(df)"
   ]
  },
  {
   "cell_type": "markdown",
   "metadata": {},
   "source": [
    "# Convert pandas column to lowercase use map()"
   ]
  },
  {
   "cell_type": "code",
   "execution_count": 5,
   "metadata": {},
   "outputs": [
    {
     "name": "stdout",
     "output_type": "stream",
     "text": [
      "   Courses    Fee Duration Discount\n",
      "0    spark  22000   30days     1000\n",
      "1  pyspark  25000   50days     2300\n",
      "2   hadoop  24000   40days     2500\n",
      "3   pandas  26000   60days     1400\n"
     ]
    }
   ],
   "source": [
    "df['Courses'] = df['Courses'].map(str.lower)\n",
    "print(df)"
   ]
  },
  {
   "cell_type": "code",
   "execution_count": 7,
   "metadata": {},
   "outputs": [
    {
     "data": {
      "text/plain": [
       "0    6\n",
       "1    8\n",
       "2    7\n",
       "3    8\n",
       "4    8\n",
       "Name: name, dtype: int64"
      ]
     },
     "execution_count": 7,
     "metadata": {},
     "output_type": "execute_result"
    }
   ],
   "source": [
    "import pandas as pd\n",
    "\n",
    "data = pd.DataFrame({\n",
    "\n",
    "    'age' : [15, 17, 20, 14, 25],\n",
    "\n",
    "    'name': [\"Sample\", \"New User\", \"My Name\", \"Jane Doe\", \"John Doe\"]\n",
    "\n",
    "})\n",
    "\n",
    "data['name'].str.len()"
   ]
  },
  {
   "cell_type": "code",
   "execution_count": 13,
   "metadata": {},
   "outputs": [
    {
     "data": {
      "text/plain": [
       "0    1. Bat.\n",
       "1    2. Dog!\n",
       "2    3. fox?\n",
       "3        NaN\n",
       "dtype: object"
      ]
     },
     "execution_count": 13,
     "metadata": {},
     "output_type": "execute_result"
    }
   ],
   "source": [
    "import numpy as np\n",
    "import pandas as pd\n",
    "s = pd.Series(['1. Bat.  ', '2. Dog!\\n', '3. fox?\\t', np.nan])\n",
    "s.str.strip()\n",
    "\n"
   ]
  },
  {
   "cell_type": "code",
   "execution_count": 14,
   "metadata": {},
   "outputs": [
    {
     "data": {
      "text/plain": [
       "0                         [this, is, my, new, pen]\n",
       "1    [https://www.w3resource.com/pandas/index.php]\n",
       "2                                              NaN\n",
       "dtype: object"
      ]
     },
     "execution_count": 14,
     "metadata": {},
     "output_type": "execute_result"
    }
   ],
   "source": [
    "import numpy as np\n",
    "import pandas as pd\n",
    "s = pd.Series([\"this is my new pen\",\n",
    "               \"https://www.w3resource.com/pandas/index.php\",\n",
    "               np.nan])\n",
    "s.str.split()"
   ]
  },
  {
   "cell_type": "markdown",
   "metadata": {},
   "source": [
    "#str.upper()"
   ]
  },
  {
   "cell_type": "code",
   "execution_count": 5,
   "metadata": {},
   "outputs": [
    {
     "name": "stdout",
     "output_type": "stream",
     "text": [
      "Original Series:\n",
      "0     apple\n",
      "1    banana\n",
      "2    cherry\n",
      "3      date\n",
      "4       NaN\n",
      "dtype: object\n",
      "\n",
      "Series after str.upper():\n",
      "0     APPLE\n",
      "1    BANANA\n",
      "2    CHERRY\n",
      "3      DATE\n",
      "4       NaN\n",
      "dtype: object\n"
     ]
    }
   ],
   "source": [
    "import pandas as pd\n",
    "\n",
    "data = pd.Series(['apple', 'banana', 'cherry', 'date', np.nan])\n",
    "\n",
    "uppercased_data = data.str.upper()\n",
    "\n",
    "print(\"Original Series:\")\n",
    "print(data)\n",
    "\n",
    "print(\"\\nSeries after str.upper():\")\n",
    "print(uppercased_data)\n"
   ]
  },
  {
   "cell_type": "markdown",
   "metadata": {},
   "source": [
    "#str.lower()"
   ]
  },
  {
   "cell_type": "code",
   "execution_count": 6,
   "metadata": {},
   "outputs": [
    {
     "name": "stdout",
     "output_type": "stream",
     "text": [
      "Original Series:\n",
      "0     APPLE\n",
      "1    Banana\n",
      "2    Cherry\n",
      "3      Date\n",
      "4       NaN\n",
      "dtype: object\n",
      "\n",
      "Series after str.lower():\n",
      "0     apple\n",
      "1    banana\n",
      "2    cherry\n",
      "3      date\n",
      "4       NaN\n",
      "dtype: object\n"
     ]
    }
   ],
   "source": [
    "import pandas as pd\n",
    "\n",
    "data = pd.Series(['APPLE', 'Banana', 'Cherry', 'Date', np.nan])\n",
    "\n",
    "lowercased_data = data.str.lower()\n",
    "\n",
    "print(\"Original Series:\")\n",
    "print(data)\n",
    "\n",
    "print(\"\\nSeries after str.lower():\")\n",
    "print(lowercased_data)\n"
   ]
  },
  {
   "cell_type": "markdown",
   "metadata": {},
   "source": [
    "#str.contains()"
   ]
  },
  {
   "cell_type": "code",
   "execution_count": 7,
   "metadata": {},
   "outputs": [
    {
     "name": "stdout",
     "output_type": "stream",
     "text": [
      "Original Series:\n",
      "0     apple\n",
      "1    banana\n",
      "2    cherry\n",
      "3      date\n",
      "4       NaN\n",
      "dtype: object\n",
      "\n",
      "Series after str.contains('an'):\n",
      "0    False\n",
      "1     True\n",
      "2    False\n",
      "3    False\n",
      "4      NaN\n",
      "dtype: object\n"
     ]
    }
   ],
   "source": [
    "import pandas as pd\n",
    "\n",
    "data = pd.Series(['apple', 'banana', 'cherry', 'date', np.nan])\n",
    "\n",
    "contains_data = data.str.contains('an')\n",
    "\n",
    "print(\"Original Series:\")\n",
    "print(data)\n",
    "\n",
    "print(\"\\nSeries after str.contains('an'):\")\n",
    "print(contains_data)\n"
   ]
  },
  {
   "cell_type": "markdown",
   "metadata": {},
   "source": [
    "#str.replace"
   ]
  },
  {
   "cell_type": "code",
   "execution_count": 8,
   "metadata": {},
   "outputs": [
    {
     "name": "stdout",
     "output_type": "stream",
     "text": [
      "Original Series:\n",
      "0     apple\n",
      "1    banana\n",
      "2    cherry\n",
      "3      date\n",
      "4       NaN\n",
      "dtype: object\n",
      "\n",
      "Series after str.replace('an', '***'):\n",
      "0       apple\n",
      "1    b******a\n",
      "2      cherry\n",
      "3        date\n",
      "4         NaN\n",
      "dtype: object\n"
     ]
    }
   ],
   "source": [
    "import pandas as pd\n",
    "\n",
    "data = pd.Series(['apple', 'banana', 'cherry', 'date', np.nan])\n",
    "\n",
    "replaced_data = data.str.replace('an', '***')\n",
    "\n",
    "print(\"Original Series:\")\n",
    "print(data)\n",
    "\n",
    "print(\"\\nSeries after str.replace('an', '***'):\")\n",
    "print(replaced_data)\n"
   ]
  },
  {
   "cell_type": "markdown",
   "metadata": {},
   "source": [
    "str.startswith()"
   ]
  },
  {
   "cell_type": "code",
   "execution_count": 9,
   "metadata": {},
   "outputs": [
    {
     "name": "stdout",
     "output_type": "stream",
     "text": [
      "Original Series:\n",
      "0     apple\n",
      "1    banana\n",
      "2    cherry\n",
      "3      date\n",
      "4       NaN\n",
      "dtype: object\n",
      "\n",
      "Series after str.startswith('a'):\n",
      "0     True\n",
      "1    False\n",
      "2    False\n",
      "3    False\n",
      "4      NaN\n",
      "dtype: object\n"
     ]
    }
   ],
   "source": [
    "import pandas as pd\n",
    "\n",
    "data = pd.Series(['apple', 'banana', 'cherry', 'date', np.nan])\n",
    "\n",
    "startswith_a = data.str.startswith('a')\n",
    "\n",
    "print(\"Original Series:\")\n",
    "print(data)\n",
    "\n",
    "print(\"\\nSeries after str.startswith('a'):\")\n",
    "print(startswith_a)\n"
   ]
  },
  {
   "cell_type": "markdown",
   "metadata": {},
   "source": [
    "#str.endwith()"
   ]
  },
  {
   "cell_type": "code",
   "execution_count": 10,
   "metadata": {},
   "outputs": [
    {
     "name": "stdout",
     "output_type": "stream",
     "text": [
      "Original Series:\n",
      "0     apple\n",
      "1    banana\n",
      "2    cherry\n",
      "3      date\n",
      "4       NaN\n",
      "dtype: object\n",
      "\n",
      "Series after str.endswith('e'):\n",
      "0     True\n",
      "1    False\n",
      "2    False\n",
      "3     True\n",
      "4      NaN\n",
      "dtype: object\n"
     ]
    }
   ],
   "source": [
    "import pandas as pd\n",
    "\n",
    "data = pd.Series(['apple', 'banana', 'cherry', 'date', np.nan])\n",
    "\n",
    "endswith_e = data.str.endswith('e')\n",
    "\n",
    "print(\"Original Series:\")\n",
    "print(data)\n",
    "\n",
    "print(\"\\nSeries after str.endswith('e'):\")\n",
    "print(endswith_e)\n"
   ]
  },
  {
   "cell_type": "markdown",
   "metadata": {},
   "source": [
    "#str.cat()"
   ]
  },
  {
   "cell_type": "code",
   "execution_count": 11,
   "metadata": {},
   "outputs": [
    {
     "name": "stdout",
     "output_type": "stream",
     "text": [
      "Original Series 1:\n",
      "0     apple\n",
      "1    banana\n",
      "2    cherry\n",
      "3      date\n",
      "4       NaN\n",
      "dtype: object\n",
      "\n",
      "Original Series 2:\n",
      "0        red\n",
      "1     yellow\n",
      "2       blue\n",
      "3      green\n",
      "4     purple\n",
      "dtype: object\n",
      "\n",
      "Series after str.cat():\n",
      "0        apple red\n",
      "1    banana yellow\n",
      "2      cherry blue\n",
      "3       date green\n",
      "4              NaN\n",
      "dtype: object\n"
     ]
    }
   ],
   "source": [
    "import pandas as pd\n",
    "\n",
    "series1 = pd.Series(['apple', 'banana', 'cherry', 'date', np.nan])\n",
    "series2 = pd.Series([' red', ' yellow', ' blue', ' green', ' purple'])\n",
    "\n",
    "concatenated_data = series1.str.cat(series2)\n",
    "\n",
    "print(\"Original Series 1:\")\n",
    "print(series1)\n",
    "\n",
    "print(\"\\nOriginal Series 2:\")\n",
    "print(series2)\n",
    "\n",
    "print(\"\\nSeries after str.cat():\")\n",
    "print(concatenated_data)"
   ]
  },
  {
   "cell_type": "markdown",
   "metadata": {},
   "source": [
    "#str.get()"
   ]
  },
  {
   "cell_type": "code",
   "execution_count": 12,
   "metadata": {},
   "outputs": [
    {
     "name": "stdout",
     "output_type": "stream",
     "text": [
      "Original Series:\n",
      "0     apple\n",
      "1    banana\n",
      "2    cherry\n",
      "3      date\n",
      "4       NaN\n",
      "dtype: object\n",
      "\n",
      "Character at position 2:\n",
      "0      p\n",
      "1      n\n",
      "2      e\n",
      "3      t\n",
      "4    NaN\n",
      "dtype: object\n"
     ]
    }
   ],
   "source": [
    "import pandas as pd\n",
    "\n",
    "data = pd.Series(['apple', 'banana', 'cherry', 'date', np.nan])\n",
    "\n",
    "char_at_position_2 = data.str.get(2)\n",
    "\n",
    "print(\"Original Series:\")\n",
    "print(data)\n",
    "\n",
    "print(\"\\nCharacter at position 2:\")\n",
    "print(char_at_position_2)\n"
   ]
  },
  {
   "cell_type": "markdown",
   "metadata": {},
   "source": [
    "#str.slice()"
   ]
  },
  {
   "cell_type": "code",
   "execution_count": 13,
   "metadata": {},
   "outputs": [
    {
     "name": "stdout",
     "output_type": "stream",
     "text": [
      "Original Series:\n",
      "0     apple\n",
      "1    banana\n",
      "2    cherry\n",
      "3      date\n",
      "4       NaN\n",
      "dtype: object\n",
      "\n",
      "Substring from position 1 to 3:\n",
      "0    ppl\n",
      "1    ana\n",
      "2    her\n",
      "3    ate\n",
      "4    NaN\n",
      "dtype: object\n"
     ]
    }
   ],
   "source": [
    "import pandas as pd\n",
    "\n",
    "data = pd.Series(['apple', 'banana', 'cherry', 'date', np.nan])\n",
    "\n",
    "sliced_data = data.str.slice(start=1, stop=4)\n",
    "\n",
    "print(\"Original Series:\")\n",
    "print(data)\n",
    "\n",
    "print(\"\\nSubstring from position 1 to 3:\")\n",
    "print(sliced_data)"
   ]
  },
  {
   "cell_type": "markdown",
   "metadata": {},
   "source": [
    "#str.find()"
   ]
  },
  {
   "cell_type": "code",
   "execution_count": 14,
   "metadata": {},
   "outputs": [
    {
     "name": "stdout",
     "output_type": "stream",
     "text": [
      "Original Series:\n",
      "0     apple\n",
      "1    banana\n",
      "2    cherry\n",
      "3      date\n",
      "4       NaN\n",
      "dtype: object\n",
      "\n",
      "Position of 'an' in each element:\n",
      "0   -1.0\n",
      "1    1.0\n",
      "2   -1.0\n",
      "3   -1.0\n",
      "4    NaN\n",
      "dtype: float64\n"
     ]
    }
   ],
   "source": [
    "import pandas as pd\n",
    "\n",
    "data = pd.Series(['apple', 'banana', 'cherry', 'date', np.nan])\n",
    "\n",
    "position_of_an = data.str.find('an')\n",
    "\n",
    "print(\"Original Series:\")\n",
    "print(data)\n",
    "\n",
    "print(\"\\nPosition of 'an' in each element:\")\n",
    "print(position_of_an)"
   ]
  }
 ],
 "metadata": {
  "kernelspec": {
   "display_name": "Python 3",
   "language": "python",
   "name": "python3"
  },
  "language_info": {
   "codemirror_mode": {
    "name": "ipython",
    "version": 3
   },
   "file_extension": ".py",
   "mimetype": "text/x-python",
   "name": "python",
   "nbconvert_exporter": "python",
   "pygments_lexer": "ipython3",
   "version": "3.12.1"
  }
 },
 "nbformat": 4,
 "nbformat_minor": 2
}
